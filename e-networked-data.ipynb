{
 "cells": [
  {
   "cell_type": "markdown",
   "metadata": {
    "id": "tZgcR8Acj2xB"
   },
   "source": [
    "# Networked Data Analysis\n"
   ]
  },
  {
   "cell_type": "markdown",
   "metadata": {
    "id": "YTAysyjwCetk"
   },
   "source": [
    "This notebook will take you through different aspects of networked data, especially graphs and how to create, save, load, manipulate, visualise and analyse them in python. The library used for this is called networkx, which is a python library that is written for working with graphs. The documentation can be found here: https://networkx.org/. You can run `pip install networkx` to install the package.\n",
    "\n"
   ]
  },
  {
   "cell_type": "markdown",
   "metadata": {
    "id": "uQlzmBYWkiHm"
   },
   "source": [
    "### Graphs\n"
   ]
  },
  {
   "cell_type": "code",
   "execution_count": null,
   "metadata": {
    "id": "y3ZDrskjkVlQ"
   },
   "outputs": [],
   "source": [
    "import networkx as nx\n",
    "import numpy as np\n",
    "from matplotlib import pyplot as plt\n",
    "from enum import Enum\n",
    "from random import randint, random, randrange\n",
    "import scipy as sp\n",
    "import warnings"
   ]
  },
  {
   "cell_type": "markdown",
   "metadata": {
    "id": "0ic7LOZODYWr"
   },
   "source": [
    "Using networkx you can create graphs from scratch:"
   ]
  },
  {
   "cell_type": "code",
   "execution_count": null,
   "metadata": {
    "id": "3EdcJVZrDRBh"
   },
   "outputs": [],
   "source": [
    "graph = nx.Graph()\n",
    "nodes = list(range(4))\n",
    "edges = [(0,1), (1,2), (2,3), (3,0)]"
   ]
  },
  {
   "cell_type": "markdown",
   "metadata": {
    "id": "ZoZ1YipGDvb4"
   },
   "source": [
    "You can then add the edges and nodes as such:"
   ]
  },
  {
   "cell_type": "code",
   "execution_count": null,
   "metadata": {
    "colab": {
     "base_uri": "https://localhost:8080/"
    },
    "id": "kzoY8ifkDuZK",
    "outputId": "a5ca48cf-d396-48e7-a7b4-35d8316e06f8"
   },
   "outputs": [],
   "source": [
    "graph.add_nodes_from(nodes)\n",
    "graph.add_edges_from(edges)\n",
    "print(\"nodes of graph: {}\".format(list(graph.nodes)))\n",
    "print(\"edges of graph: {}\".format(list(graph.edges)))"
   ]
  },
  {
   "cell_type": "markdown",
   "metadata": {
    "id": "kzTgMn9JEFMU"
   },
   "source": [
    "You can then look at how this graph actually looks like:"
   ]
  },
  {
   "cell_type": "code",
   "execution_count": null,
   "metadata": {
    "colab": {
     "base_uri": "https://localhost:8080/",
     "height": 248
    },
    "id": "1qjB4jHDED6W",
    "outputId": "1a2919c8-0b6b-4c0c-d9c1-861d6d81f7d0"
   },
   "outputs": [],
   "source": [
    "\n",
    "plt.grid()\n",
    "nx.draw_networkx(graph, with_labels=True, edge_color=\"red\")\n",
    "plt.show()\n"
   ]
  },
  {
   "cell_type": "markdown",
   "metadata": {
    "id": "CtCg_EswFd7_"
   },
   "source": [
    "graphs in networkx are also pickleable, this is an easy way to save them for future use:"
   ]
  },
  {
   "cell_type": "code",
   "execution_count": null,
   "metadata": {
    "colab": {
     "base_uri": "https://localhost:8080/"
    },
    "id": "4SqH89zsFHsW",
    "outputId": "24b0d1ba-2ab9-485b-ea1c-6317647c0078"
   },
   "outputs": [],
   "source": [
    "nx.write_gpickle(graph, \"graph.gpickle\")\n",
    "graph = nx.read_gpickle(\"graph.gpickle\")\n",
    "print(graph)"
   ]
  },
  {
   "cell_type": "markdown",
   "metadata": {
    "id": "iSHbKPA5GOVX"
   },
   "source": [
    "Networkx graphs can have attributes associated with graph, nodes and edges:"
   ]
  },
  {
   "cell_type": "code",
   "execution_count": null,
   "metadata": {
    "colab": {
     "base_uri": "https://localhost:8080/"
    },
    "id": "0RSuD5CVGTpX",
    "outputId": "08871be1-58cb-4934-9f41-56673cdc708e"
   },
   "outputs": [],
   "source": [
    "graph.graph[\"type\"] = \"student\"\n",
    "graph.graph"
   ]
  },
  {
   "cell_type": "code",
   "execution_count": null,
   "metadata": {
    "colab": {
     "base_uri": "https://localhost:8080/"
    },
    "id": "PxKtzMtEGl-j",
    "outputId": "98dc9249-ceef-4374-9a4a-a2ca049b89d1"
   },
   "outputs": [],
   "source": [
    "import random\n",
    "for ind, node in enumerate(graph.nodes):\n",
    "  graph.nodes[node][\"student\"] = ind\n",
    "print(graph.nodes.data())\n",
    "for s,d in graph.edges:\n",
    "  graph[s][d][\"weight\"] = random.random()\n",
    "print(graph.edges.data())"
   ]
  },
  {
   "cell_type": "markdown",
   "metadata": {
    "id": "7Qlfy3hzkSdC"
   },
   "source": [
    "## Generating Graphs"
   ]
  },
  {
   "cell_type": "markdown",
   "metadata": {
    "id": "bA1Drv1RHju_"
   },
   "source": [
    "Often you might need to produce a larger number of graphs, that have qualities of real graphs you are trying to mimic. This might be because you need data to train an algorithm or you are trying to understand the process behind the formation of certain graph structures. To two most common of these are Erdos-Renyi and Barabasi-Albert Graphs. "
   ]
  },
  {
   "cell_type": "markdown",
   "metadata": {
    "id": "Hu_Hf6rmJdtp"
   },
   "source": [
    "#### Erdos-Renyi (ER)\n",
    "The ER generative graph model is very simple, it simply models the existence of an edge in the graph given a probability $p$. This probaiblity is chosen by the user and the edges are chosen from a Bernoulli distribution $B(p)$. The expected number of edges is given by ${N \\choose 2}p$. In networkx you can do this like this:"
   ]
  },
  {
   "cell_type": "code",
   "execution_count": null,
   "metadata": {
    "colab": {
     "base_uri": "https://localhost:8080/",
     "height": 1000
    },
    "id": "0sso_GUBj1Eq",
    "outputId": "915e90ae-b9f2-42a2-92bd-b20d810059bf"
   },
   "outputs": [],
   "source": [
    "probabilities = [0.01, 0.05, 0.1, 0.2, 0.3, 0.8]\n",
    "for p in probabilities:\n",
    "  plt.title(\"p: {}\".format(p))\n",
    "  nx.draw(nx.erdos_renyi_graph(100, p), node_size=10)\n",
    "  plt.show()\n"
   ]
  },
  {
   "cell_type": "markdown",
   "metadata": {
    "id": "2xaA5iAVLTSW"
   },
   "source": [
    "It is quite easy to see that when the probability $p$ increases, we have an increase in connectivity within the graph."
   ]
  },
  {
   "cell_type": "markdown",
   "metadata": {
    "id": "GGPraionMMNM"
   },
   "source": [
    "#### Barabasi-Albert (BA)\n",
    "BA graphs are a sequential generative graph model, this means that the graph is constructed in sequence, with edges being added after each node is added in sequence. The BA algorithm foccusses on creating graphs that have degree distributions that follow a power law (long tail) distribution. With a node, $u$, being added in sequence the probability of that node being connected to the other nodes, $v$, in the graph is given by:\n",
    "$$p_{u, v}= \\frac{\\delta_v}{\\sum_{j\\in N} \\delta_j}$$ \n",
    "Where u is the node added to the graph, v is another node already in the graph, $\\delta_v$ is the degree of node $v$ and the set $N$ is the set of nodes already in the graph. This follows the principle of the 'the rich get richer' as nodes with more connections end up getting more connections in return. To generate a BA graph, you need to specify $m$ which is the pre-defined number of edges to add at each node addition and $n$, the number of nodes in the graph."
   ]
  },
  {
   "cell_type": "code",
   "execution_count": null,
   "metadata": {
    "colab": {
     "base_uri": "https://localhost:8080/",
     "height": 1000
    },
    "id": "F-1WbyDEMLeL",
    "outputId": "0e866f69-b862-40cf-a611-ab54a0d3276d"
   },
   "outputs": [],
   "source": [
    "m_numbers = list(range(2,10, 2))\n",
    "for m in m_numbers:\n",
    "  ba_graph = nx.barabasi_albert_graph(100, m)\n",
    "  plt.title(\"m: {}\".format(m))\n",
    "  nx.draw(ba_graph, node_size=10)\n",
    "  plt.show()"
   ]
  },
  {
   "cell_type": "markdown",
   "metadata": {
    "id": "vVvKaMKiknZO"
   },
   "source": [
    "## Analysing Graphs"
   ]
  },
  {
   "cell_type": "markdown",
   "metadata": {
    "id": "V3H3zZm6Oyjp"
   },
   "source": [
    "To analyse graphs on the most basic level we can look at the distribution of the degree of each node. The degree is the number of edges that connect to a certain node. "
   ]
  },
  {
   "cell_type": "code",
   "execution_count": null,
   "metadata": {
    "id": "_ah2MSgmQSyQ"
   },
   "outputs": [],
   "source": [
    "def plot_degree_distribution(graph, plt_show=False, **kwargs):\n",
    "  degree_sequence = sorted([d for n, d in graph.degree()], reverse=True)\n",
    "  degreeCount = collections.Counter(degree_sequence)\n",
    "  deg, cnt = zip(*degreeCount.items())\n",
    "  plt.bar(deg, cnt, width=0.80, **kwargs)\n",
    "  if plt_show:\n",
    "    plt.legend()\n",
    "    plt.grid()\n",
    "    plt.show()\n",
    "    \n"
   ]
  },
  {
   "cell_type": "code",
   "execution_count": null,
   "metadata": {
    "colab": {
     "base_uri": "https://localhost:8080/",
     "height": 549
    },
    "id": "X8eDHa0Zkyhi",
    "outputId": "9d05f770-5973-49c2-8814-98205065acca"
   },
   "outputs": [],
   "source": [
    "import collections\n",
    "er_graph_low = nx.erdos_renyi_graph(1000, 0.3)\n",
    "er_graph_high = nx.erdos_renyi_graph(1000, 0.6)\n",
    "ba_graph_low = nx.barabasi_albert_graph(1000, 3)\n",
    "ba_graph_high = nx.barabasi_albert_graph(1000, 10)\n",
    "\n",
    "plt.xlabel(r\"degree [$\\delta$]\")\n",
    "plt.ylabel(r\"count\")\n",
    "plot_degree_distribution(er_graph_low, plt_show=False, label=\"ER p=0.3\")\n",
    "plot_degree_distribution(er_graph_high, plt_show=True, label=\"ER p=0.6\")\n",
    "\n",
    "plt.xlabel(r\"degree [$\\delta$]\")\n",
    "plt.ylabel(r\"count\")\n",
    "plot_degree_distribution(ba_graph_low, plt_show=False, label=\"BA m=3\")\n",
    "plot_degree_distribution(ba_graph_high, plt_show=True, label=\"BA m=10\")\n"
   ]
  },
  {
   "cell_type": "markdown",
   "metadata": {
    "id": "ZgxFgVJZQo6X"
   },
   "source": [
    "Between the two generative models (ER and BA), we can see that the degree distributions are vastly different. Here we can see that the ER degree distribution is more like a normal curve and the BA degree distribution has a long tail, normally seen on power law distributions."
   ]
  },
  {
   "cell_type": "markdown",
   "metadata": {
    "id": "jgtE_xx9RjJd"
   },
   "source": [
    "Other measures used to analyse graphs often involved are node embeddings, diameter values, as well as various manipulations around the normalised laplacian matrix and their eigenvalues. Some more resources to look at:\n",
    "\n",
    "\n",
    "*   A spectral graph theory method for analysing graph structures: https://www.cl.cam.ac.uk/techreports/UCAM-CL-TR-729.html\n",
    "*   Introductions into spectral graph theory: http://www.math.ucsd.edu/~fan/research/revised.html\n",
    "\n",
    "\n"
   ]
  },
  {
   "cell_type": "markdown",
   "metadata": {
    "id": "kT3hY2y6ky3u"
   },
   "source": [
    "## Visualising Signal on Graphs\n"
   ]
  },
  {
   "cell_type": "markdown",
   "metadata": {
    "id": "6TQt9VGnfYTO"
   },
   "source": [
    "Often, edges and nodes on graphs carry information (a signal) and part of analysing a graph is to visualise such signals. In the following, we show how to show different signals on the nodes of a graph representing a 2D multiple rooms environment. "
   ]
  },
  {
   "cell_type": "code",
   "execution_count": null,
   "metadata": {
    "cellView": "form",
    "id": "5tTWdk80aW5m"
   },
   "outputs": [],
   "source": [
    "#@title Classes\n",
    "class Room(object):\n",
    "\n",
    "    def __init__(self, id, corner, width, height):\n",
    "        self.id = id\n",
    "        self.corner = corner\n",
    "        self.height = height\n",
    "        self.width = width\n",
    "\n",
    "    def __repr__(self):\n",
    "        return \"ID: %d, corner (%s), height %d, width %d\" % (self.id, self.corner, self.height, self.width)\n",
    "\n",
    "\n",
    "class Corner(Enum):\n",
    "    BOTTOM_LEFT = 1\n",
    "    BOTTOM_RIGHT = 2\n",
    "    TOP_LEFT = 3\n",
    "    TOP_RIGHT = 4"
   ]
  },
  {
   "cell_type": "code",
   "execution_count": null,
   "metadata": {
    "cellView": "form",
    "id": "HH7WYzsearUI"
   },
   "outputs": [],
   "source": [
    "#@title Utils\n",
    "def create_full_grid(width, height):\n",
    "    \"\"\"\n",
    "    Create a grid environment.\n",
    "    :param width:   int, width of the grid\n",
    "    :param height:  int, height of the grid\n",
    "    :return:        Networkx object, Room object, the grid graph and corresponding room\n",
    "    \"\"\"\n",
    "    graph = nx.grid_2d_graph(width, height)\n",
    "\n",
    "    for x in range(width):\n",
    "        for y in range(height):\n",
    "            graph.add_node((x,y), room_id=1, is_goal=0, is_start=0)\n",
    "\n",
    "    graph.nodes[(0, 0)].update(is_start=1)\n",
    "    graph.nodes[(width-1, height-1)].update(is_reward=1)\n",
    "\n",
    "    room = Room(1, (0, 0), width, height)\n",
    "\n",
    "    return graph, room\n",
    "\n",
    "\n",
    "def get_distance_from_wall(room, pos):\n",
    "    \"\"\"\n",
    "    For a given location in a room, compute the shortest distance to a wall.\n",
    "    :param room:    Room, the room\n",
    "    :param pos:     (int, int), the coordinate of the state\n",
    "    :return:        int, the shortest distance from pos to a wall\n",
    "    \"\"\"\n",
    "    o_x, o_y = room.corner\n",
    "    x, y = pos\n",
    "    distance_from_wall = min(x - o_x,                       # distance to left wall\n",
    "                             (o_x + room.width - 1) - x,    # distance to right wall\n",
    "                             y - o_y,                       # distance to bottom wall\n",
    "                             (o_y + room.height - 1) - y)   # distance to top wall\n",
    "    return distance_from_wall\n",
    "\n",
    "\n",
    "def split_room(graph, room, new_id):\n",
    "    \"\"\"\n",
    "    Split in half a given room in a graph into two rooms.\n",
    "    :param graph:   Networkx object, the graph\n",
    "    :param room:    Room object, the room to split in two\n",
    "    :param new_id:  int, the id of the newly created room\n",
    "    :return:        Room, Room, the new rooms after the split.\n",
    "    \"\"\"\n",
    "\n",
    "    if max(room.height, room.width) < 4:\n",
    "        warnings.warn(\"room too small to be split!\")\n",
    "        return room, None, graph\n",
    "\n",
    "    o_x, o_y = room.corner\n",
    "\n",
    "    if room.height < room.width: # build a vertical all\n",
    "        wall_posx = o_x + int(room.width/2) - 1\n",
    "        room1 = Room(room.id, (o_x, o_y), int(room.width/2), room.height)\n",
    "        room2 = Room(new_id, (wall_posx + 1, o_y), room.width - int(room.width/2), room.height)\n",
    "        doorway = randrange(o_y, o_y + room.height)\n",
    "\n",
    "        for y in range(o_y, o_y + room.height):\n",
    "            if y != doorway:\n",
    "                try:\n",
    "                    graph.remove_edge((wall_posx, y),(wall_posx + 1, y))\n",
    "                except:\n",
    "                    print(\"Failed to remove edge\")\n",
    "    else:\n",
    "        wall_posy = o_y + int(room.height/2) - 1\n",
    "        room1 = Room(room.id, (o_x, o_y), room.width, int(room.height/2))\n",
    "        room2 = Room(new_id, (o_x, wall_posy + 1), room.width, room.height - int(room.height/2))\n",
    "        doorway = randrange(o_x, o_x + room.width)\n",
    "\n",
    "        for x in range(o_x, o_x + room.width):\n",
    "            if x != doorway:\n",
    "                try:\n",
    "                    graph.remove_edge((x, wall_posy), (x, wall_posy + 1))\n",
    "                except:\n",
    "                    print(\"Failed to remove edge\")\n",
    "\n",
    "    for x in range(room2.corner[0], room2.corner[0] + room2.width):\n",
    "        for y in range(room2.corner[1], room2.corner[1] + room2.height):\n",
    "            is_corner = 0\n",
    "\n",
    "            if x == room2.corner[0] and y == room2.corner[1]:\n",
    "                is_corner = Corner.BOTTOM_LEFT.value\n",
    "            if x == room2.corner[0] and y == room2.corner[1] + room2.height - 1:\n",
    "                is_corner = Corner.TOP_LEFT.value\n",
    "            if x == room2.corner[0] + room2.width - 1 and y == room2.corner[1]:\n",
    "                is_corner = Corner.BOTTOM_RIGHT.value\n",
    "            if x == room2.corner[0] + room2.width - 1 and y == room2.corner[1] + room2.height - 1:\n",
    "                is_corner = Corner.TOP_RIGHT.value\n",
    "\n",
    "            graph.nodes[(x, y)].update(room_id=new_id,\n",
    "                                       distance_from_wall=get_distance_from_wall(room2, (x, y)),\n",
    "                                       is_corner=is_corner)\n",
    "\n",
    "    for x in range(room1.corner[0], room1.corner[0] + room1.width):\n",
    "        for y in range(room1.corner[1], room1.corner[1] + room1.height):\n",
    "            is_corner = 0\n",
    "\n",
    "            if x == room1.corner[0] and y == room1.corner[1]:\n",
    "                is_corner = Corner.BOTTOM_LEFT.value\n",
    "            if x == room1.corner[0] and y == room1.corner[1] + room1.height - 1:\n",
    "                is_corner = Corner.TOP_LEFT.value\n",
    "            if x == room1.corner[0] + room1.width - 1 and y == room1.corner[1]:\n",
    "                is_corner = Corner.BOTTOM_RIGHT.value\n",
    "            if x == room1.corner[0] + room1.width - 1 and y == room1.corner[1] + room1.height - 1:\n",
    "                is_corner = Corner.TOP_RIGHT.value\n",
    "\n",
    "            graph.nodes[(x, y)].update(room_id=room.id,\n",
    "                                       distance_from_wall=get_distance_from_wall(room1, (x, y)),\n",
    "                                       is_corner=is_corner)\n",
    "\n",
    "    return room1, room2\n",
    "\n",
    "\n",
    "def create_environment(width, height, num_rooms, draw_graph=False):\n",
    "    \"\"\"\n",
    "    Create a multi room environment.\n",
    "    :param width:       int, the width of the environment\n",
    "    :param height:      int, the height of the environment\n",
    "    :param num_rooms:   int, the number of rooms in the environment\n",
    "    :param draw_graph:  bool, whether to plot the graph\n",
    "    :return:            Networkx object, dictionary, the environment as a graph and the dictionary of all rooms within the environment\n",
    "    \"\"\"\n",
    "\n",
    "    if num_rooms < 1:\n",
    "        raise ValueError(\"The num_rooms must be at least 1.\")\n",
    "    if num_rooms > int(width/2) * int(height/2):\n",
    "        raise ValueError(\"The number of rooms is to high for the chosen grid size.\")\n",
    "    if width < 0 or height < 0:\n",
    "        raise ValueError(\"width and height must be greater than zero.\")\n",
    "\n",
    "    graph, room = create_full_grid(width, height)\n",
    "\n",
    "    if num_rooms == 1:\n",
    "        return graph\n",
    "\n",
    "    all_rooms = {room.id: room}\n",
    "    queue = []\n",
    "    current_nb_rooms = 1\n",
    "\n",
    "    while current_nb_rooms < num_rooms:\n",
    "        if not queue:\n",
    "            queue = list(all_rooms.values())\n",
    "        room = queue.pop()\n",
    "\n",
    "        room1, room2 = split_room(graph, room, current_nb_rooms + 1)\n",
    "\n",
    "        all_rooms[room.id] = room1\n",
    "\n",
    "        if room2 is not None:\n",
    "            all_rooms[room2.id] = room2\n",
    "            current_nb_rooms += 1\n",
    "        elif not queue:\n",
    "            warnings.warn(\"Created environment with %d rooms\" % current_nb_rooms)\n",
    "            break\n",
    "    if draw_graph:\n",
    "        pos = {(x, y): (x, y) for x, y in graph.nodes()}\n",
    "        nx.draw_networkx(graph, pos)\n",
    "    return graph, all_rooms\n",
    "\n",
    "def compute_pvfs(G, d, normalised=False):\n",
    "  if normalised:\n",
    "    L = nx.normalized_laplacian_matrix(G)\n",
    "  else:\n",
    "    L = nx.laplacian_matrix(G)\n",
    "  eval, evec = np.linalg.eigh(L.A)\n",
    "  return evec[:, :d]\n",
    "\n",
    "def compute_sru(G, d, gamma=.99):\n",
    "  W = nx.adjacency_matrix(G)\n",
    "  I = np.identity(W.shape[1])\n",
    "  counts = np.zeros(W.shape)\n",
    "  for w in range(W.shape[0]):\n",
    "      sum = W[w].sum()\n",
    "      for i in range(W.shape[1]):\n",
    "          if sum != 0:\n",
    "              counts[w, i] = W[w, i] / sum\n",
    "\n",
    "  successor_repr = np.linalg.inv(I - .99 * counts)\n",
    "  u, s,v = np.linalg.svd(successor_repr)\n",
    "  return u[:, :d]\n",
    "\n",
    "def plot_node_feature(graph, feature=None, num_PVF=1, normalised=False,  num_SRU=1, gamma=.99):\n",
    "    \"\"\"\n",
    "    Plot the graph with node features labels.\n",
    "    :param graph:   Networkx object, the graph to plot\n",
    "    :param feature: string, the name of the node feature to plot\n",
    "    :return:\n",
    "    \"\"\"\n",
    "    \n",
    "    pos = {(x, y): (x, y) for x, y in graph.nodes()}\n",
    "    if feature == 'pos':\n",
    "        fig, ax = plt.subplots(figsize=(15, 15))\n",
    "        nx.draw_networkx(graph, pos, ax=ax, node_size=300, font_size=10, font_weight='bold', width=3.0, edge_color='grey')\n",
    "        return\n",
    "\n",
    "    if feature == 'pvf':\n",
    "      if num_PVF == None:\n",
    "        raise ValueError(\"Please specify which pvf to draw [0,N-1]\")\n",
    "      if num_PVF < 0 or num_PVF >= len(graph.nodes):\n",
    "        raise ValueError(\"The num_PVF must be an integer between 1 and N\")\n",
    "      pvfs = compute_pvfs(graph, num_PVF, normalised)\n",
    "      nx.draw(G, pos, node_color=pvfs[:,-1], node_size=300, cmap=plt.cm.Oranges)\n",
    "      return \n",
    "\n",
    "    if feature == 'sru':\n",
    "      if num_SRU == None:\n",
    "        raise ValueError(\"Please specify which SR singular vector to draw [0,N-1]\")\n",
    "      if num_SRU < 0 or num_SRU >= len(graph.nodes):\n",
    "        raise ValueError(\"The num_SRU must be an integer between 1 and N\")\n",
    "      sru = compute_sru(graph, num_SRU, gamma)\n",
    "      nx.draw(G, pos, node_color=np.array(sru[:,-1]), node_size=300, cmap=plt.cm.Oranges)\n",
    "      return \n",
    "\n",
    "    nx.draw(graph, pos, node_size=300, width=3.0)\n",
    "\n",
    "    if feature is None:\n",
    "        return\n",
    "\n",
    "    labels = {}\n",
    "\n",
    "    for node in graph.nodes:\n",
    "        labels[node] = str(graph.nodes[node][feature])\n",
    "\n",
    "    nx.draw_networkx_labels(graph, pos, labels=labels, font_size=12)\n",
    "\n",
    "def get_features(graph):\n",
    "  feature_matrix = []\n",
    "  for n in G.nodes:\n",
    "    feature_matrix.append([n[0], n[1], G.nodes[n]['distance_from_wall'], G.nodes[n]['is_corner'], G.nodes[n]['room_id']])\n",
    "  return feature_matrix\n",
    "\n",
    "def find_policy(graph, goal):\n",
    "    \"\"\"\n",
    "    Find and plot an optimal path to a goal.\n",
    "    :param graph:   Networkx Object, the environment as a graph\n",
    "    :param goal:    Location of the goal state\n",
    "    :return:        A shortest path to the goal.\n",
    "    \"\"\"\n",
    "    path = nx.single_source_shortest_path(graph, (0, 0))\n",
    "    pos = {(x, y): (x, y) for x, y in graph.nodes()}\n",
    "\n",
    "    nx.draw(graph, pos, node_size=300, width=3.0, alpha=0.5)\n",
    "    nx.draw_networkx_nodes(graph, pos, nodelist=path[goal], node_size=300, alpha=0.5, node_color='r')\n"
   ]
  },
  {
   "cell_type": "markdown",
   "metadata": {
    "id": "pbhOQvSCz-h4"
   },
   "source": [
    "The code above contains functions to create a graph representing a 2D rectangular multiple rooms environment. The environment is discrete, such as each location point is a node in the graph, and is connected to the node directly above, below, on the left and on the right, provided it is not on an edge (wall or door way).\n",
    "\n",
    "Below, we use the code to create a 8X12 rectangular grid containing 5 rooms."
   ]
  },
  {
   "cell_type": "markdown",
   "metadata": {
    "id": "s5pqhGrts9io"
   },
   "source": [
    "### Generate a multi room environment"
   ]
  },
  {
   "cell_type": "code",
   "execution_count": null,
   "metadata": {
    "id": "8pW4LUN4kcZw"
   },
   "outputs": [],
   "source": [
    "height = 8\n",
    "width = 12\n",
    "num_rooms = 5\n",
    "G, rooms = create_environment(width, height, num_rooms)"
   ]
  },
  {
   "cell_type": "markdown",
   "metadata": {
    "id": "dL1chBL_tO4q"
   },
   "source": [
    "### Plot node features"
   ]
  },
  {
   "cell_type": "markdown",
   "metadata": {
    "id": "HWCq4jGbzg3O"
   },
   "source": [
    "Let's first observe different node features in the 5-rooms environment:\n",
    "\n",
    "- The (x,y) coordinates\n",
    "- The distance to the nearest wall\n",
    "- The room ID\n",
    "- The corner ID"
   ]
  },
  {
   "cell_type": "code",
   "execution_count": null,
   "metadata": {
    "cellView": "form",
    "colab": {
     "base_uri": "https://localhost:8080/",
     "height": 846
    },
    "id": "a-ri-T8Rl-wH",
    "outputId": "8765870f-a051-4cc8-af15-4e3411523859"
   },
   "outputs": [],
   "source": [
    "#@title Plot state positions\n",
    "plot_node_feature(G, 'pos')"
   ]
  },
  {
   "cell_type": "code",
   "execution_count": null,
   "metadata": {
    "colab": {
     "base_uri": "https://localhost:8080/",
     "height": 319
    },
    "id": "SPhQvvYJm1Mk",
    "outputId": "1bb18756-a018-4573-c0d5-fdca9c35f311"
   },
   "outputs": [],
   "source": [
    "plot_node_feature(G, 'room_id')"
   ]
  },
  {
   "cell_type": "code",
   "execution_count": null,
   "metadata": {
    "cellView": "form",
    "colab": {
     "base_uri": "https://localhost:8080/",
     "height": 319
    },
    "id": "svxP4yf4sWQT",
    "outputId": "630b008c-191a-4606-e3b5-ae61a24ec14f"
   },
   "outputs": [],
   "source": [
    "#@title Plot state distance from wall\n",
    "plot_node_feature(G, 'distance_from_wall')"
   ]
  },
  {
   "cell_type": "code",
   "execution_count": null,
   "metadata": {
    "cellView": "form",
    "colab": {
     "base_uri": "https://localhost:8080/",
     "height": 319
    },
    "id": "ySmEu-9Wsc8H",
    "outputId": "941a7ee9-aaf0-4482-ce10-c92aa6ff8702"
   },
   "outputs": [],
   "source": [
    "#@title Plot corner IDs\n",
    "plot_node_feature(G, 'is_corner')"
   ]
  },
  {
   "cell_type": "markdown",
   "metadata": {
    "id": "B6hyNqf7k4lT"
   },
   "source": [
    "## Graph Embedding"
   ]
  },
  {
   "cell_type": "markdown",
   "metadata": {
    "id": "tp9kdamQfRAO"
   },
   "source": []
  },
  {
   "cell_type": "code",
   "execution_count": null,
   "metadata": {
    "cellView": "form",
    "colab": {
     "base_uri": "https://localhost:8080/",
     "height": 319
    },
    "id": "mEyrOMpxlCrk",
    "outputId": "d7bab5ce-d6e0-4709-ab9e-8df93cbba53e"
   },
   "outputs": [],
   "source": [
    "#@title Plot normalised Laplacian 1st eigenvector\n",
    "plot_node_feature(G, 'pvf', num_PVF=1, normalised=True)"
   ]
  },
  {
   "cell_type": "code",
   "execution_count": null,
   "metadata": {
    "cellView": "form",
    "colab": {
     "base_uri": "https://localhost:8080/",
     "height": 319
    },
    "id": "gdrpnDg5kM5d",
    "outputId": "7eeb22a2-8527-4837-f06d-bcfe8c2bea1b"
   },
   "outputs": [],
   "source": [
    "#@title Plot normalised Laplacian 2nd eigenvector\n",
    "plot_node_feature(G, 'pvf', num_PVF=2, normalised=True)"
   ]
  },
  {
   "cell_type": "code",
   "execution_count": null,
   "metadata": {
    "cellView": "form",
    "colab": {
     "base_uri": "https://localhost:8080/",
     "height": 319
    },
    "id": "-he-emcm1qe4",
    "outputId": "a8063dc1-c167-46d0-9907-5062137a48b4"
   },
   "outputs": [],
   "source": [
    "#@title Plot successor representation singular vectors\n",
    "plot_node_feature(G, 'sru', num_SRU=4, gamma=.99)"
   ]
  },
  {
   "cell_type": "code",
   "execution_count": null,
   "metadata": {},
   "outputs": [],
   "source": []
  },
  {
   "cell_type": "markdown",
   "metadata": {
    "id": "-2LiL__A6Vq5"
   },
   "source": [
    "### Geometric Deep Learning\n",
    "\n",
    "The best and most straight forward tools to use for geometric deep learning is Deep Graph Library (DGL) and Pytorch.\n",
    "\n",
    "Installation instructions can be found here:\n",
    "\n",
    "\n",
    "*   https://pytorch.org/get-started/locally/\n",
    "*   https://www.dgl.ai/pages/start.html\n",
    "\n",
    "A very easy to follow tutorial of the Graph Convolutional Network (GCN) is available at: https://docs.dgl.ai/en/0.6.x/tutorials/models/1_gnn/1_gcn.html\n",
    "\n",
    "The paper it follows can be found here: https://arxiv.org/pdf/1609.02907.pdf\n",
    "\n",
    "\n",
    "\n"
   ]
  },
  {
   "cell_type": "code",
   "execution_count": null,
   "metadata": {},
   "outputs": [],
   "source": []
  }
 ],
 "metadata": {
  "colab": {
   "collapsed_sections": [],
   "name": "LAB_graph_analysis.ipynb",
   "provenance": []
  },
  "kernelspec": {
   "display_name": "Python 3 (ipykernel)",
   "language": "python",
   "name": "python3"
  },
  "language_info": {
   "codemirror_mode": {
    "name": "ipython",
    "version": 3
   },
   "file_extension": ".py",
   "mimetype": "text/x-python",
   "name": "python",
   "nbconvert_exporter": "python",
   "pygments_lexer": "ipython3",
   "version": "3.9.7"
  }
 },
 "nbformat": 4,
 "nbformat_minor": 4
}
